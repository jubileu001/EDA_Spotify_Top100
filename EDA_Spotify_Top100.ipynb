{
 "cells": [
  {
   "cell_type": "markdown",
   "id": "4db41136",
   "metadata": {},
   "source": [
    "# EDA - Dataset top100 spotify 2010-2019"
   ]
  },
  {
   "cell_type": "markdown",
   "id": "eec68462",
   "metadata": {},
   "source": [
    "o link do dataset no kaggle: https://www.kaggle.com/datasets/muhmores/spotify-top-100-songs-of-20152019\n",
    "\n",
    "O dataset possui os nomes dos artitas, titulos das musicas, genero, ano e dia de lançamento, o ano que foi top hit, dentre outras informações sobre a música.  "
   ]
  },
  {
   "cell_type": "code",
   "execution_count": null,
   "id": "ec4a6329",
   "metadata": {},
   "outputs": [],
   "source": [
    "import pandas as pd\n",
    "import matplotlib.pyplot as plt\n",
    "import numpy as np"
   ]
  },
  {
   "cell_type": "markdown",
   "id": "1bd04332",
   "metadata": {},
   "source": [
    "## Carregando e tratando os dados"
   ]
  },
  {
   "cell_type": "code",
   "execution_count": 2,
   "id": "5f41d4bc",
   "metadata": {},
   "outputs": [
    {
     "data": {
      "text/html": [
       "<div>\n",
       "<style scoped>\n",
       "    .dataframe tbody tr th:only-of-type {\n",
       "        vertical-align: middle;\n",
       "    }\n",
       "\n",
       "    .dataframe tbody tr th {\n",
       "        vertical-align: top;\n",
       "    }\n",
       "\n",
       "    .dataframe thead th {\n",
       "        text-align: right;\n",
       "    }\n",
       "</style>\n",
       "<table border=\"1\" class=\"dataframe\">\n",
       "  <thead>\n",
       "    <tr style=\"text-align: right;\">\n",
       "      <th></th>\n",
       "      <th>title</th>\n",
       "      <th>artist</th>\n",
       "      <th>top genre</th>\n",
       "      <th>year released</th>\n",
       "      <th>added</th>\n",
       "      <th>bpm</th>\n",
       "      <th>nrgy</th>\n",
       "      <th>dnce</th>\n",
       "      <th>dB</th>\n",
       "      <th>live</th>\n",
       "      <th>val</th>\n",
       "      <th>dur</th>\n",
       "      <th>acous</th>\n",
       "      <th>spch</th>\n",
       "      <th>pop</th>\n",
       "      <th>top year</th>\n",
       "      <th>artist type</th>\n",
       "    </tr>\n",
       "  </thead>\n",
       "  <tbody>\n",
       "    <tr>\n",
       "      <th>0</th>\n",
       "      <td>STARSTRUKK (feat. Katy Perry)</td>\n",
       "      <td>3OH!3</td>\n",
       "      <td>dance pop</td>\n",
       "      <td>2009.0</td>\n",
       "      <td>2022‑02‑17</td>\n",
       "      <td>140.0</td>\n",
       "      <td>81.0</td>\n",
       "      <td>61.0</td>\n",
       "      <td>-6.0</td>\n",
       "      <td>23.0</td>\n",
       "      <td>23.0</td>\n",
       "      <td>203.0</td>\n",
       "      <td>0.0</td>\n",
       "      <td>6.0</td>\n",
       "      <td>70.0</td>\n",
       "      <td>2010.0</td>\n",
       "      <td>Duo</td>\n",
       "    </tr>\n",
       "    <tr>\n",
       "      <th>1</th>\n",
       "      <td>My First Kiss (feat. Ke$ha)</td>\n",
       "      <td>3OH!3</td>\n",
       "      <td>dance pop</td>\n",
       "      <td>2010.0</td>\n",
       "      <td>2022‑02‑17</td>\n",
       "      <td>138.0</td>\n",
       "      <td>89.0</td>\n",
       "      <td>68.0</td>\n",
       "      <td>-4.0</td>\n",
       "      <td>36.0</td>\n",
       "      <td>83.0</td>\n",
       "      <td>192.0</td>\n",
       "      <td>1.0</td>\n",
       "      <td>8.0</td>\n",
       "      <td>68.0</td>\n",
       "      <td>2010.0</td>\n",
       "      <td>Duo</td>\n",
       "    </tr>\n",
       "    <tr>\n",
       "      <th>2</th>\n",
       "      <td>I Need A Dollar</td>\n",
       "      <td>Aloe Blacc</td>\n",
       "      <td>pop soul</td>\n",
       "      <td>2010.0</td>\n",
       "      <td>2022‑02‑17</td>\n",
       "      <td>95.0</td>\n",
       "      <td>48.0</td>\n",
       "      <td>84.0</td>\n",
       "      <td>-7.0</td>\n",
       "      <td>9.0</td>\n",
       "      <td>96.0</td>\n",
       "      <td>243.0</td>\n",
       "      <td>20.0</td>\n",
       "      <td>3.0</td>\n",
       "      <td>72.0</td>\n",
       "      <td>2010.0</td>\n",
       "      <td>Solo</td>\n",
       "    </tr>\n",
       "    <tr>\n",
       "      <th>3</th>\n",
       "      <td>Airplanes (feat. Hayley Williams of Paramore)</td>\n",
       "      <td>B.o.B</td>\n",
       "      <td>atl hip hop</td>\n",
       "      <td>2010.0</td>\n",
       "      <td>2022‑02‑17</td>\n",
       "      <td>93.0</td>\n",
       "      <td>87.0</td>\n",
       "      <td>66.0</td>\n",
       "      <td>-4.0</td>\n",
       "      <td>4.0</td>\n",
       "      <td>38.0</td>\n",
       "      <td>180.0</td>\n",
       "      <td>11.0</td>\n",
       "      <td>12.0</td>\n",
       "      <td>80.0</td>\n",
       "      <td>2010.0</td>\n",
       "      <td>Solo</td>\n",
       "    </tr>\n",
       "    <tr>\n",
       "      <th>4</th>\n",
       "      <td>Nothin' on You (feat. Bruno Mars)</td>\n",
       "      <td>B.o.B</td>\n",
       "      <td>atl hip hop</td>\n",
       "      <td>2010.0</td>\n",
       "      <td>2022‑02‑17</td>\n",
       "      <td>104.0</td>\n",
       "      <td>85.0</td>\n",
       "      <td>69.0</td>\n",
       "      <td>-6.0</td>\n",
       "      <td>9.0</td>\n",
       "      <td>74.0</td>\n",
       "      <td>268.0</td>\n",
       "      <td>39.0</td>\n",
       "      <td>5.0</td>\n",
       "      <td>79.0</td>\n",
       "      <td>2010.0</td>\n",
       "      <td>Solo</td>\n",
       "    </tr>\n",
       "  </tbody>\n",
       "</table>\n",
       "</div>"
      ],
      "text/plain": [
       "                                           title      artist    top genre  \\\n",
       "0                  STARSTRUKK (feat. Katy Perry)       3OH!3    dance pop   \n",
       "1                    My First Kiss (feat. Ke$ha)       3OH!3    dance pop   \n",
       "2                                I Need A Dollar  Aloe Blacc     pop soul   \n",
       "3  Airplanes (feat. Hayley Williams of Paramore)       B.o.B  atl hip hop   \n",
       "4              Nothin' on You (feat. Bruno Mars)       B.o.B  atl hip hop   \n",
       "\n",
       "   year released       added    bpm  nrgy  dnce   dB  live   val    dur  \\\n",
       "0         2009.0  2022‑02‑17  140.0  81.0  61.0 -6.0  23.0  23.0  203.0   \n",
       "1         2010.0  2022‑02‑17  138.0  89.0  68.0 -4.0  36.0  83.0  192.0   \n",
       "2         2010.0  2022‑02‑17   95.0  48.0  84.0 -7.0   9.0  96.0  243.0   \n",
       "3         2010.0  2022‑02‑17   93.0  87.0  66.0 -4.0   4.0  38.0  180.0   \n",
       "4         2010.0  2022‑02‑17  104.0  85.0  69.0 -6.0   9.0  74.0  268.0   \n",
       "\n",
       "   acous  spch   pop  top year artist type  \n",
       "0    0.0   6.0  70.0    2010.0         Duo  \n",
       "1    1.0   8.0  68.0    2010.0         Duo  \n",
       "2   20.0   3.0  72.0    2010.0        Solo  \n",
       "3   11.0  12.0  80.0    2010.0        Solo  \n",
       "4   39.0   5.0  79.0    2010.0        Solo  "
      ]
     },
     "execution_count": 2,
     "metadata": {},
     "output_type": "execute_result"
    }
   ],
   "source": [
    "df = pd.read_csv('spotify_2010-2019_Top_100.csv')\n",
    "df.head()"
   ]
  },
  {
   "cell_type": "code",
   "execution_count": 3,
   "id": "9e3f0c01",
   "metadata": {
    "scrolled": false
   },
   "outputs": [
    {
     "name": "stdout",
     "output_type": "stream",
     "text": [
      "<class 'pandas.core.frame.DataFrame'>\n",
      "RangeIndex: 1003 entries, 0 to 1002\n",
      "Data columns (total 17 columns):\n",
      " #   Column         Non-Null Count  Dtype  \n",
      "---  ------         --------------  -----  \n",
      " 0   title          1000 non-null   object \n",
      " 1   artist         1000 non-null   object \n",
      " 2   top genre      1000 non-null   object \n",
      " 3   year released  1000 non-null   float64\n",
      " 4   added          1000 non-null   object \n",
      " 5   bpm            1000 non-null   float64\n",
      " 6   nrgy           1000 non-null   float64\n",
      " 7   dnce           1000 non-null   float64\n",
      " 8   dB             1000 non-null   float64\n",
      " 9   live           1000 non-null   float64\n",
      " 10  val            1000 non-null   float64\n",
      " 11  dur            1000 non-null   float64\n",
      " 12  acous          1000 non-null   float64\n",
      " 13  spch           1000 non-null   float64\n",
      " 14  pop            1000 non-null   float64\n",
      " 15  top year       1000 non-null   float64\n",
      " 16  artist type    1000 non-null   object \n",
      "dtypes: float64(12), object(5)\n",
      "memory usage: 133.3+ KB\n"
     ]
    }
   ],
   "source": [
    "df.info()"
   ]
  },
  {
   "cell_type": "code",
   "execution_count": 4,
   "id": "7e2be741",
   "metadata": {},
   "outputs": [
    {
     "data": {
      "text/plain": [
       "title            3\n",
       "artist           3\n",
       "top genre        3\n",
       "year released    3\n",
       "added            3\n",
       "bpm              3\n",
       "nrgy             3\n",
       "dnce             3\n",
       "dB               3\n",
       "live             3\n",
       "val              3\n",
       "dur              3\n",
       "acous            3\n",
       "spch             3\n",
       "pop              3\n",
       "top year         3\n",
       "artist type      3\n",
       "dtype: int64"
      ]
     },
     "execution_count": 4,
     "metadata": {},
     "output_type": "execute_result"
    }
   ],
   "source": [
    "df.isna().sum()"
   ]
  },
  {
   "cell_type": "markdown",
   "id": "85d66f43",
   "metadata": {},
   "source": [
    "Aqui podemos observar que o dataset possui 3 instancias NA para todas as colunas."
   ]
  },
  {
   "cell_type": "code",
   "execution_count": 5,
   "id": "6fc82366",
   "metadata": {
    "scrolled": true
   },
   "outputs": [
    {
     "data": {
      "text/html": [
       "<div>\n",
       "<style scoped>\n",
       "    .dataframe tbody tr th:only-of-type {\n",
       "        vertical-align: middle;\n",
       "    }\n",
       "\n",
       "    .dataframe tbody tr th {\n",
       "        vertical-align: top;\n",
       "    }\n",
       "\n",
       "    .dataframe thead th {\n",
       "        text-align: right;\n",
       "    }\n",
       "</style>\n",
       "<table border=\"1\" class=\"dataframe\">\n",
       "  <thead>\n",
       "    <tr style=\"text-align: right;\">\n",
       "      <th></th>\n",
       "      <th>title</th>\n",
       "      <th>artist</th>\n",
       "      <th>top genre</th>\n",
       "      <th>year released</th>\n",
       "      <th>added</th>\n",
       "      <th>bpm</th>\n",
       "      <th>nrgy</th>\n",
       "      <th>dnce</th>\n",
       "      <th>dB</th>\n",
       "      <th>live</th>\n",
       "      <th>val</th>\n",
       "      <th>dur</th>\n",
       "      <th>acous</th>\n",
       "      <th>spch</th>\n",
       "      <th>pop</th>\n",
       "      <th>top year</th>\n",
       "      <th>artist type</th>\n",
       "    </tr>\n",
       "  </thead>\n",
       "  <tbody>\n",
       "    <tr>\n",
       "      <th>999</th>\n",
       "      <td>The London (feat. J. Cole &amp; Travis Scott)</td>\n",
       "      <td>Young Thug</td>\n",
       "      <td>atl hip hop</td>\n",
       "      <td>2019.0</td>\n",
       "      <td>2020‑06‑22</td>\n",
       "      <td>98.0</td>\n",
       "      <td>59.0</td>\n",
       "      <td>80.0</td>\n",
       "      <td>-7.0</td>\n",
       "      <td>13.0</td>\n",
       "      <td>18.0</td>\n",
       "      <td>200.0</td>\n",
       "      <td>2.0</td>\n",
       "      <td>15.0</td>\n",
       "      <td>75.0</td>\n",
       "      <td>2019.0</td>\n",
       "      <td>Solo</td>\n",
       "    </tr>\n",
       "    <tr>\n",
       "      <th>1000</th>\n",
       "      <td>NaN</td>\n",
       "      <td>NaN</td>\n",
       "      <td>NaN</td>\n",
       "      <td>NaN</td>\n",
       "      <td>NaN</td>\n",
       "      <td>NaN</td>\n",
       "      <td>NaN</td>\n",
       "      <td>NaN</td>\n",
       "      <td>NaN</td>\n",
       "      <td>NaN</td>\n",
       "      <td>NaN</td>\n",
       "      <td>NaN</td>\n",
       "      <td>NaN</td>\n",
       "      <td>NaN</td>\n",
       "      <td>NaN</td>\n",
       "      <td>NaN</td>\n",
       "      <td>NaN</td>\n",
       "    </tr>\n",
       "    <tr>\n",
       "      <th>1001</th>\n",
       "      <td>NaN</td>\n",
       "      <td>NaN</td>\n",
       "      <td>NaN</td>\n",
       "      <td>NaN</td>\n",
       "      <td>NaN</td>\n",
       "      <td>NaN</td>\n",
       "      <td>NaN</td>\n",
       "      <td>NaN</td>\n",
       "      <td>NaN</td>\n",
       "      <td>NaN</td>\n",
       "      <td>NaN</td>\n",
       "      <td>NaN</td>\n",
       "      <td>NaN</td>\n",
       "      <td>NaN</td>\n",
       "      <td>NaN</td>\n",
       "      <td>NaN</td>\n",
       "      <td>NaN</td>\n",
       "    </tr>\n",
       "    <tr>\n",
       "      <th>1002</th>\n",
       "      <td>NaN</td>\n",
       "      <td>NaN</td>\n",
       "      <td>NaN</td>\n",
       "      <td>NaN</td>\n",
       "      <td>NaN</td>\n",
       "      <td>NaN</td>\n",
       "      <td>NaN</td>\n",
       "      <td>NaN</td>\n",
       "      <td>NaN</td>\n",
       "      <td>NaN</td>\n",
       "      <td>NaN</td>\n",
       "      <td>NaN</td>\n",
       "      <td>NaN</td>\n",
       "      <td>NaN</td>\n",
       "      <td>NaN</td>\n",
       "      <td>NaN</td>\n",
       "      <td>NaN</td>\n",
       "    </tr>\n",
       "  </tbody>\n",
       "</table>\n",
       "</div>"
      ],
      "text/plain": [
       "                                          title      artist    top genre  \\\n",
       "999   The London (feat. J. Cole & Travis Scott)  Young Thug  atl hip hop   \n",
       "1000                                        NaN         NaN          NaN   \n",
       "1001                                        NaN         NaN          NaN   \n",
       "1002                                        NaN         NaN          NaN   \n",
       "\n",
       "      year released       added   bpm  nrgy  dnce   dB  live   val    dur  \\\n",
       "999          2019.0  2020‑06‑22  98.0  59.0  80.0 -7.0  13.0  18.0  200.0   \n",
       "1000            NaN         NaN   NaN   NaN   NaN  NaN   NaN   NaN    NaN   \n",
       "1001            NaN         NaN   NaN   NaN   NaN  NaN   NaN   NaN    NaN   \n",
       "1002            NaN         NaN   NaN   NaN   NaN  NaN   NaN   NaN    NaN   \n",
       "\n",
       "      acous  spch   pop  top year artist type  \n",
       "999     2.0  15.0  75.0    2019.0        Solo  \n",
       "1000    NaN   NaN   NaN       NaN         NaN  \n",
       "1001    NaN   NaN   NaN       NaN         NaN  \n",
       "1002    NaN   NaN   NaN       NaN         NaN  "
      ]
     },
     "execution_count": 5,
     "metadata": {},
     "output_type": "execute_result"
    }
   ],
   "source": [
    "df.tail(4)"
   ]
  },
  {
   "cell_type": "markdown",
   "id": "e3224ad4",
   "metadata": {},
   "source": [
    "Analisando o dataset foi encontrado que as ultimas 3 instancias estão vazias. Logo, podemos usar o dropna() para tirar elas e ficar com o dataset completo com 1000 instancias."
   ]
  },
  {
   "cell_type": "code",
   "execution_count": 6,
   "id": "5871195e",
   "metadata": {
    "scrolled": true
   },
   "outputs": [
    {
     "data": {
      "text/plain": [
       "title            0\n",
       "artist           0\n",
       "top genre        0\n",
       "year released    0\n",
       "added            0\n",
       "bpm              0\n",
       "nrgy             0\n",
       "dnce             0\n",
       "dB               0\n",
       "live             0\n",
       "val              0\n",
       "dur              0\n",
       "acous            0\n",
       "spch             0\n",
       "pop              0\n",
       "top year         0\n",
       "artist type      0\n",
       "dtype: int64"
      ]
     },
     "execution_count": 6,
     "metadata": {},
     "output_type": "execute_result"
    }
   ],
   "source": [
    "df.dropna(inplace=True)\n",
    "df.isna().sum()"
   ]
  },
  {
   "cell_type": "markdown",
   "id": "17609715",
   "metadata": {},
   "source": [
    "## Transformar 'top year' e 'year released' para int64"
   ]
  },
  {
   "cell_type": "code",
   "execution_count": 7,
   "id": "6a6b96d6",
   "metadata": {},
   "outputs": [],
   "source": [
    "df['year released'] = df['year released'].astype('int64')\n",
    "df['top year'] = df['top year'].astype('int64')"
   ]
  },
  {
   "cell_type": "markdown",
   "id": "e00918b2",
   "metadata": {},
   "source": [
    "Agora vamos ver quais os valores de anos estão presentes no dataset, se realmente é de 2010 a 2019 e suas datas de lançamentos"
   ]
  },
  {
   "cell_type": "code",
   "execution_count": 8,
   "id": "fbb31865",
   "metadata": {},
   "outputs": [
    {
     "data": {
      "text/plain": [
       "2010    100\n",
       "2011    100\n",
       "2012    100\n",
       "2013    100\n",
       "2014    100\n",
       "2015    100\n",
       "2016    100\n",
       "2017    100\n",
       "2018    100\n",
       "2019    100\n",
       "Name: top year, dtype: int64"
      ]
     },
     "execution_count": 8,
     "metadata": {},
     "output_type": "execute_result"
    }
   ],
   "source": [
    "df['top year'].value_counts()"
   ]
  },
  {
   "cell_type": "code",
   "execution_count": 9,
   "id": "766ee819",
   "metadata": {
    "scrolled": true
   },
   "outputs": [
    {
     "data": {
      "text/plain": [
       "2018    112\n",
       "2012    109\n",
       "2014    101\n",
       "2017     99\n",
       "2015     99\n",
       "2010     94\n",
       "2011     93\n",
       "2019     87\n",
       "2013     86\n",
       "2016     86\n",
       "2009     24\n",
       "2020      6\n",
       "2021      3\n",
       "1975      1\n",
       "Name: year released, dtype: int64"
      ]
     },
     "execution_count": 9,
     "metadata": {},
     "output_type": "execute_result"
    }
   ],
   "source": [
    "df['year released'].value_counts()"
   ]
  },
  {
   "cell_type": "markdown",
   "id": "0c3e8cd7",
   "metadata": {},
   "source": [
    "### Como temos dados um pouco estranhos, lançado em 1975,  2021 e 2020, precisamos olhar esses dados e tratar"
   ]
  },
  {
   "cell_type": "code",
   "execution_count": 10,
   "id": "2c0294ff",
   "metadata": {},
   "outputs": [],
   "source": [
    "# prara ajustar as datas erradas foi criada essa função\n",
    "def ajYR(title, new_year):\n",
    "    for i in range(len(df)):\n",
    "        if df.loc[i, 'title'] == title:\n",
    "            df.loc[i, 'year released'] = new_year\n",
    "    return "
   ]
  },
  {
   "cell_type": "code",
   "execution_count": 11,
   "id": "0c29b9a8",
   "metadata": {},
   "outputs": [
    {
     "data": {
      "text/html": [
       "<div>\n",
       "<style scoped>\n",
       "    .dataframe tbody tr th:only-of-type {\n",
       "        vertical-align: middle;\n",
       "    }\n",
       "\n",
       "    .dataframe tbody tr th {\n",
       "        vertical-align: top;\n",
       "    }\n",
       "\n",
       "    .dataframe thead th {\n",
       "        text-align: right;\n",
       "    }\n",
       "</style>\n",
       "<table border=\"1\" class=\"dataframe\">\n",
       "  <thead>\n",
       "    <tr style=\"text-align: right;\">\n",
       "      <th></th>\n",
       "      <th>title</th>\n",
       "      <th>artist</th>\n",
       "      <th>top genre</th>\n",
       "      <th>year released</th>\n",
       "      <th>added</th>\n",
       "      <th>bpm</th>\n",
       "      <th>nrgy</th>\n",
       "      <th>dnce</th>\n",
       "      <th>dB</th>\n",
       "      <th>live</th>\n",
       "      <th>val</th>\n",
       "      <th>dur</th>\n",
       "      <th>acous</th>\n",
       "      <th>spch</th>\n",
       "      <th>pop</th>\n",
       "      <th>top year</th>\n",
       "      <th>artist type</th>\n",
       "    </tr>\n",
       "  </thead>\n",
       "  <tbody>\n",
       "    <tr>\n",
       "      <th>982</th>\n",
       "      <td>Bohemian Rhapsody - Remastered 2011</td>\n",
       "      <td>Queen</td>\n",
       "      <td>classic rock</td>\n",
       "      <td>1975</td>\n",
       "      <td>2020‑06‑22</td>\n",
       "      <td>144.0</td>\n",
       "      <td>40.0</td>\n",
       "      <td>39.0</td>\n",
       "      <td>-10.0</td>\n",
       "      <td>24.0</td>\n",
       "      <td>23.0</td>\n",
       "      <td>354.0</td>\n",
       "      <td>29.0</td>\n",
       "      <td>5.0</td>\n",
       "      <td>77.0</td>\n",
       "      <td>2019</td>\n",
       "      <td>Band/Group</td>\n",
       "    </tr>\n",
       "  </tbody>\n",
       "</table>\n",
       "</div>"
      ],
      "text/plain": [
       "                                   title artist     top genre  year released  \\\n",
       "982  Bohemian Rhapsody - Remastered 2011  Queen  classic rock           1975   \n",
       "\n",
       "          added    bpm  nrgy  dnce    dB  live   val    dur  acous  spch  \\\n",
       "982  2020‑06‑22  144.0  40.0  39.0 -10.0  24.0  23.0  354.0   29.0   5.0   \n",
       "\n",
       "      pop  top year artist type  \n",
       "982  77.0      2019  Band/Group  "
      ]
     },
     "execution_count": 11,
     "metadata": {},
     "output_type": "execute_result"
    }
   ],
   "source": [
    "df[df['year released']==1975]"
   ]
  },
  {
   "cell_type": "code",
   "execution_count": 12,
   "id": "e0e8a292",
   "metadata": {
    "scrolled": true
   },
   "outputs": [
    {
     "data": {
      "text/html": [
       "<div>\n",
       "<style scoped>\n",
       "    .dataframe tbody tr th:only-of-type {\n",
       "        vertical-align: middle;\n",
       "    }\n",
       "\n",
       "    .dataframe tbody tr th {\n",
       "        vertical-align: top;\n",
       "    }\n",
       "\n",
       "    .dataframe thead th {\n",
       "        text-align: right;\n",
       "    }\n",
       "</style>\n",
       "<table border=\"1\" class=\"dataframe\">\n",
       "  <thead>\n",
       "    <tr style=\"text-align: right;\">\n",
       "      <th></th>\n",
       "      <th>title</th>\n",
       "      <th>artist</th>\n",
       "      <th>top genre</th>\n",
       "      <th>year released</th>\n",
       "      <th>added</th>\n",
       "      <th>bpm</th>\n",
       "      <th>nrgy</th>\n",
       "      <th>dnce</th>\n",
       "      <th>dB</th>\n",
       "      <th>live</th>\n",
       "      <th>val</th>\n",
       "      <th>dur</th>\n",
       "      <th>acous</th>\n",
       "      <th>spch</th>\n",
       "      <th>pop</th>\n",
       "      <th>top year</th>\n",
       "      <th>artist type</th>\n",
       "    </tr>\n",
       "  </thead>\n",
       "  <tbody>\n",
       "    <tr>\n",
       "      <th>168</th>\n",
       "      <td>I Follow Rivers - The Magician Remix</td>\n",
       "      <td>Lykke Li</td>\n",
       "      <td>art pop</td>\n",
       "      <td>2021</td>\n",
       "      <td>2020‑06‑25</td>\n",
       "      <td>122.0</td>\n",
       "      <td>70.0</td>\n",
       "      <td>79.0</td>\n",
       "      <td>-6.0</td>\n",
       "      <td>8.0</td>\n",
       "      <td>30.0</td>\n",
       "      <td>280.0</td>\n",
       "      <td>2.0</td>\n",
       "      <td>4.0</td>\n",
       "      <td>67.0</td>\n",
       "      <td>2011</td>\n",
       "      <td>Solo</td>\n",
       "    </tr>\n",
       "    <tr>\n",
       "      <th>182</th>\n",
       "      <td>Read All About It</td>\n",
       "      <td>Professor Green</td>\n",
       "      <td>grime</td>\n",
       "      <td>2021</td>\n",
       "      <td>2020‑06‑16</td>\n",
       "      <td>101.0</td>\n",
       "      <td>75.0</td>\n",
       "      <td>66.0</td>\n",
       "      <td>-6.0</td>\n",
       "      <td>22.0</td>\n",
       "      <td>45.0</td>\n",
       "      <td>236.0</td>\n",
       "      <td>34.0</td>\n",
       "      <td>4.0</td>\n",
       "      <td>35.0</td>\n",
       "      <td>2011</td>\n",
       "      <td>Solo</td>\n",
       "    </tr>\n",
       "    <tr>\n",
       "      <th>608</th>\n",
       "      <td>Hurts So Good</td>\n",
       "      <td>Astrid S</td>\n",
       "      <td>alt z</td>\n",
       "      <td>2021</td>\n",
       "      <td>2020‑06‑08</td>\n",
       "      <td>120.0</td>\n",
       "      <td>63.0</td>\n",
       "      <td>67.0</td>\n",
       "      <td>-5.0</td>\n",
       "      <td>9.0</td>\n",
       "      <td>42.0</td>\n",
       "      <td>209.0</td>\n",
       "      <td>8.0</td>\n",
       "      <td>5.0</td>\n",
       "      <td>77.0</td>\n",
       "      <td>2016</td>\n",
       "      <td>Solo</td>\n",
       "    </tr>\n",
       "  </tbody>\n",
       "</table>\n",
       "</div>"
      ],
      "text/plain": [
       "                                    title           artist top genre  \\\n",
       "168  I Follow Rivers - The Magician Remix         Lykke Li   art pop   \n",
       "182                     Read All About It  Professor Green     grime   \n",
       "608                         Hurts So Good         Astrid S     alt z   \n",
       "\n",
       "     year released       added    bpm  nrgy  dnce   dB  live   val    dur  \\\n",
       "168           2021  2020‑06‑25  122.0  70.0  79.0 -6.0   8.0  30.0  280.0   \n",
       "182           2021  2020‑06‑16  101.0  75.0  66.0 -6.0  22.0  45.0  236.0   \n",
       "608           2021  2020‑06‑08  120.0  63.0  67.0 -5.0   9.0  42.0  209.0   \n",
       "\n",
       "     acous  spch   pop  top year artist type  \n",
       "168    2.0   4.0  67.0      2011        Solo  \n",
       "182   34.0   4.0  35.0      2011        Solo  \n",
       "608    8.0   5.0  77.0      2016        Solo  "
      ]
     },
     "execution_count": 12,
     "metadata": {},
     "output_type": "execute_result"
    }
   ],
   "source": [
    "df[df['year released']==2021]"
   ]
  },
  {
   "cell_type": "code",
   "execution_count": 13,
   "id": "3e15a849",
   "metadata": {},
   "outputs": [
    {
     "data": {
      "text/html": [
       "<div>\n",
       "<style scoped>\n",
       "    .dataframe tbody tr th:only-of-type {\n",
       "        vertical-align: middle;\n",
       "    }\n",
       "\n",
       "    .dataframe tbody tr th {\n",
       "        vertical-align: top;\n",
       "    }\n",
       "\n",
       "    .dataframe thead th {\n",
       "        text-align: right;\n",
       "    }\n",
       "</style>\n",
       "<table border=\"1\" class=\"dataframe\">\n",
       "  <thead>\n",
       "    <tr style=\"text-align: right;\">\n",
       "      <th></th>\n",
       "      <th>title</th>\n",
       "      <th>artist</th>\n",
       "      <th>top genre</th>\n",
       "      <th>year released</th>\n",
       "      <th>added</th>\n",
       "      <th>bpm</th>\n",
       "      <th>nrgy</th>\n",
       "      <th>dnce</th>\n",
       "      <th>dB</th>\n",
       "      <th>live</th>\n",
       "      <th>val</th>\n",
       "      <th>dur</th>\n",
       "      <th>acous</th>\n",
       "      <th>spch</th>\n",
       "      <th>pop</th>\n",
       "      <th>top year</th>\n",
       "      <th>artist type</th>\n",
       "    </tr>\n",
       "  </thead>\n",
       "  <tbody>\n",
       "    <tr>\n",
       "      <th>69</th>\n",
       "      <td>Eenie Meenie</td>\n",
       "      <td>Sean Kingston</td>\n",
       "      <td>dance pop</td>\n",
       "      <td>2020</td>\n",
       "      <td>2022‑02‑17</td>\n",
       "      <td>121.0</td>\n",
       "      <td>64.0</td>\n",
       "      <td>73.0</td>\n",
       "      <td>-3.0</td>\n",
       "      <td>10.0</td>\n",
       "      <td>84.0</td>\n",
       "      <td>202.0</td>\n",
       "      <td>3.0</td>\n",
       "      <td>3.0</td>\n",
       "      <td>72.0</td>\n",
       "      <td>2010</td>\n",
       "      <td>Solo</td>\n",
       "    </tr>\n",
       "    <tr>\n",
       "      <th>98</th>\n",
       "      <td>We No Speak Americano (Edit)</td>\n",
       "      <td>Yolanda Be Cool</td>\n",
       "      <td>australian dance</td>\n",
       "      <td>2020</td>\n",
       "      <td>2022‑02‑17</td>\n",
       "      <td>125.0</td>\n",
       "      <td>81.0</td>\n",
       "      <td>90.0</td>\n",
       "      <td>-5.0</td>\n",
       "      <td>9.0</td>\n",
       "      <td>75.0</td>\n",
       "      <td>157.0</td>\n",
       "      <td>7.0</td>\n",
       "      <td>5.0</td>\n",
       "      <td>65.0</td>\n",
       "      <td>2010</td>\n",
       "      <td>Duo</td>\n",
       "    </tr>\n",
       "    <tr>\n",
       "      <th>651</th>\n",
       "      <td>Gold</td>\n",
       "      <td>Kiiara</td>\n",
       "      <td>alt z</td>\n",
       "      <td>2020</td>\n",
       "      <td>2020‑06‑08</td>\n",
       "      <td>113.0</td>\n",
       "      <td>41.0</td>\n",
       "      <td>60.0</td>\n",
       "      <td>-9.0</td>\n",
       "      <td>13.0</td>\n",
       "      <td>41.0</td>\n",
       "      <td>226.0</td>\n",
       "      <td>62.0</td>\n",
       "      <td>34.0</td>\n",
       "      <td>64.0</td>\n",
       "      <td>2016</td>\n",
       "      <td>Solo</td>\n",
       "    </tr>\n",
       "    <tr>\n",
       "      <th>901</th>\n",
       "      <td>Easier</td>\n",
       "      <td>5 Seconds of Summer</td>\n",
       "      <td>boy band</td>\n",
       "      <td>2020</td>\n",
       "      <td>2020‑06‑22</td>\n",
       "      <td>176.0</td>\n",
       "      <td>46.0</td>\n",
       "      <td>56.0</td>\n",
       "      <td>-4.0</td>\n",
       "      <td>11.0</td>\n",
       "      <td>62.0</td>\n",
       "      <td>158.0</td>\n",
       "      <td>48.0</td>\n",
       "      <td>26.0</td>\n",
       "      <td>74.0</td>\n",
       "      <td>2019</td>\n",
       "      <td>Band/Group</td>\n",
       "    </tr>\n",
       "    <tr>\n",
       "      <th>951</th>\n",
       "      <td>i'm so tired...</td>\n",
       "      <td>Lauv</td>\n",
       "      <td>dance pop</td>\n",
       "      <td>2020</td>\n",
       "      <td>2020‑06‑22</td>\n",
       "      <td>102.0</td>\n",
       "      <td>73.0</td>\n",
       "      <td>60.0</td>\n",
       "      <td>-7.0</td>\n",
       "      <td>24.0</td>\n",
       "      <td>53.0</td>\n",
       "      <td>163.0</td>\n",
       "      <td>18.0</td>\n",
       "      <td>20.0</td>\n",
       "      <td>81.0</td>\n",
       "      <td>2019</td>\n",
       "      <td>Solo</td>\n",
       "    </tr>\n",
       "    <tr>\n",
       "      <th>972</th>\n",
       "      <td>Options</td>\n",
       "      <td>NSG</td>\n",
       "      <td>afro dancehall</td>\n",
       "      <td>2020</td>\n",
       "      <td>2020‑08‑20</td>\n",
       "      <td>102.0</td>\n",
       "      <td>62.0</td>\n",
       "      <td>84.0</td>\n",
       "      <td>-5.0</td>\n",
       "      <td>10.0</td>\n",
       "      <td>76.0</td>\n",
       "      <td>240.0</td>\n",
       "      <td>39.0</td>\n",
       "      <td>9.0</td>\n",
       "      <td>62.0</td>\n",
       "      <td>2019</td>\n",
       "      <td>Band/Group</td>\n",
       "    </tr>\n",
       "  </tbody>\n",
       "</table>\n",
       "</div>"
      ],
      "text/plain": [
       "                            title               artist         top genre  \\\n",
       "69                   Eenie Meenie        Sean Kingston         dance pop   \n",
       "98   We No Speak Americano (Edit)      Yolanda Be Cool  australian dance   \n",
       "651                          Gold               Kiiara             alt z   \n",
       "901                        Easier  5 Seconds of Summer          boy band   \n",
       "951               i'm so tired...                 Lauv         dance pop   \n",
       "972                       Options                  NSG    afro dancehall   \n",
       "\n",
       "     year released       added    bpm  nrgy  dnce   dB  live   val    dur  \\\n",
       "69            2020  2022‑02‑17  121.0  64.0  73.0 -3.0  10.0  84.0  202.0   \n",
       "98            2020  2022‑02‑17  125.0  81.0  90.0 -5.0   9.0  75.0  157.0   \n",
       "651           2020  2020‑06‑08  113.0  41.0  60.0 -9.0  13.0  41.0  226.0   \n",
       "901           2020  2020‑06‑22  176.0  46.0  56.0 -4.0  11.0  62.0  158.0   \n",
       "951           2020  2020‑06‑22  102.0  73.0  60.0 -7.0  24.0  53.0  163.0   \n",
       "972           2020  2020‑08‑20  102.0  62.0  84.0 -5.0  10.0  76.0  240.0   \n",
       "\n",
       "     acous  spch   pop  top year artist type  \n",
       "69     3.0   3.0  72.0      2010        Solo  \n",
       "98     7.0   5.0  65.0      2010         Duo  \n",
       "651   62.0  34.0  64.0      2016        Solo  \n",
       "901   48.0  26.0  74.0      2019  Band/Group  \n",
       "951   18.0  20.0  81.0      2019        Solo  \n",
       "972   39.0   9.0  62.0      2019  Band/Group  "
      ]
     },
     "execution_count": 13,
     "metadata": {},
     "output_type": "execute_result"
    }
   ],
   "source": [
    "df[df['year released']==2020]"
   ]
  },
  {
   "cell_type": "code",
   "execution_count": 14,
   "id": "2a286be6",
   "metadata": {},
   "outputs": [],
   "source": [
    "ajYR('Bohemian Rhapsody - Remastered 2011', 2011)\n",
    "ajYR('I Follow Rivers - The Magician Remix', 2011)\n",
    "ajYR('Read All About It', 2011)\n",
    "ajYR('Hurts So Good', 2016)\n",
    "ajYR('Eenie Meenie', 2010)\n",
    "ajYR('We No Speak Americano (Edit)', 2010)\n",
    "ajYR('Gold', 2015)\n",
    "ajYR('Easier', 2019)\n",
    "ajYR(\"i'm so tired...\", 2019)\n",
    "ajYR('Options', 2019)"
   ]
  },
  {
   "cell_type": "markdown",
   "id": "d8f0f90d",
   "metadata": {},
   "source": [
    "# Análise dos dados"
   ]
  },
  {
   "cell_type": "markdown",
   "id": "8efdbec4",
   "metadata": {},
   "source": [
    "Logo de cara a primeira coisa que podemos procurar é: Quais os artitas que mais ficaram no top 100 nesses 9 anos ?"
   ]
  },
  {
   "cell_type": "code",
   "execution_count": 15,
   "id": "7b28fc9f",
   "metadata": {
    "scrolled": true
   },
   "outputs": [
    {
     "data": {
      "text/plain": [
       "artist         top genre       \n",
       "Taylor Swift   pop                 21\n",
       "Calvin Harris  dance pop           18\n",
       "Drake          canadian hip hop    18\n",
       "Rihanna        barbadian pop       14\n",
       "Ariana Grande  dance pop           14\n",
       "Bruno Mars     dance pop           13\n",
       "Maroon 5       pop                 11\n",
       "Chris Brown    dance pop           10\n",
       "Jason Derulo   dance pop           10\n",
       "Ed Sheeran     pop                 10\n",
       "dtype: int64"
      ]
     },
     "execution_count": 15,
     "metadata": {},
     "output_type": "execute_result"
    }
   ],
   "source": [
    "df[['artist','top genre']].value_counts().head(10)"
   ]
  },
  {
   "cell_type": "markdown",
   "id": "480ac034",
   "metadata": {},
   "source": [
    "Taylor swift foi a artista que mais apareceu no top 100, seguida de Drake, Calvin Harris, Rihanna e Ariana Grande. Podemos observar ainda que os gêneros musicais desses artitas são quase todos algum tipo de musica POP e HIP HOP."
   ]
  },
  {
   "cell_type": "markdown",
   "id": "33ae6e1b",
   "metadata": {},
   "source": [
    "#### Dos generos quais os que mais aparecem no top 100 ?\n",
    "\n",
    "O gráfico abaixo apresenta os 15 gêneros que mais aparecem no top 100. Com isso, conseguimos observar que disparadamente o genero que mais mais sucesso é o dance pop. Além do mais, vemos que a maior parte deles são musicas pop ou hip hop."
   ]
  },
  {
   "cell_type": "code",
   "execution_count": 16,
   "id": "2037d15c",
   "metadata": {
    "scrolled": true
   },
   "outputs": [
    {
     "data": {
      "text/plain": [
       "<AxesSubplot:>"
      ]
     },
     "execution_count": 16,
     "metadata": {},
     "output_type": "execute_result"
    },
    {
     "data": {
      "image/png": "[encoded data removed]",
      "text/plain": [
       "<Figure size 432x288 with 1 Axes>"
      ]
     },
     "metadata": {
      "needs_background": "light"
     },
     "output_type": "display_data"
    }
   ],
   "source": [
    "df['top genre'].value_counts().head(15).sort_values().plot.barh()"
   ]
  },
  {
   "cell_type": "markdown",
   "id": "1e7f9412",
   "metadata": {},
   "source": [
    "### Nos ultimos 4 anos quais os gêneros que mais estavam no top 100 ?"
   ]
  },
  {
   "cell_type": "code",
   "execution_count": 17,
   "id": "c77342ba",
   "metadata": {
    "scrolled": true
   },
   "outputs": [
    {
     "data": {
      "text/plain": [
       "<AxesSubplot:title={'center':'Top 2019'}>"
      ]
     },
     "execution_count": 17,
     "metadata": {},
     "output_type": "execute_result"
    },
    {
     "data": {
      "image/png": "[encoded data removed]",
      "text/plain": [
       "<Figure size 576x144 with 1 Axes>"
      ]
     },
     "metadata": {
      "needs_background": "light"
     },
     "output_type": "display_data"
    }
   ],
   "source": [
    "fig = plt.figure(figsize=(8,2))\n",
    "df[df['top year'] == 2019]['top genre'].value_counts().head(5).sort_values().plot.barh(title='Top 2019')"
   ]
  },
  {
   "cell_type": "code",
   "execution_count": 18,
   "id": "74964a99",
   "metadata": {},
   "outputs": [
    {
     "data": {
      "text/plain": [
       "<AxesSubplot:title={'center':'Top 2018'}>"
      ]
     },
     "execution_count": 18,
     "metadata": {},
     "output_type": "execute_result"
    },
    {
     "data": {
      "image/png": "[encoded data removed]",
      "text/plain": [
       "<Figure size 576x144 with 1 Axes>"
      ]
     },
     "metadata": {
      "needs_background": "light"
     },
     "output_type": "display_data"
    }
   ],
   "source": [
    "fig = plt.figure(figsize=(8,2))\n",
    "df[df['top year'] == 2018]['top genre'].value_counts().head(5).sort_values().plot.barh(title='Top 2018')"
   ]
  },
  {
   "cell_type": "code",
   "execution_count": 19,
   "id": "b1c03c05",
   "metadata": {},
   "outputs": [
    {
     "data": {
      "text/plain": [
       "<AxesSubplot:title={'center':'Top 2017'}>"
      ]
     },
     "execution_count": 19,
     "metadata": {},
     "output_type": "execute_result"
    },
    {
     "data": {
      "image/png": "[encoded data removed]",
      "text/plain": [
       "<Figure size 576x144 with 1 Axes>"
      ]
     },
     "metadata": {
      "needs_background": "light"
     },
     "output_type": "display_data"
    }
   ],
   "source": [
    "fig = plt.figure(figsize=(8,2))\n",
    "df[df['top year'] == 2017]['top genre'].value_counts().head(5).sort_values().plot.barh(title='Top 2017')"
   ]
  },
  {
   "cell_type": "code",
   "execution_count": 20,
   "id": "2c93fce5",
   "metadata": {},
   "outputs": [
    {
     "data": {
      "text/plain": [
       "<AxesSubplot:title={'center':'Top 2016'}>"
      ]
     },
     "execution_count": 20,
     "metadata": {},
     "output_type": "execute_result"
    },
    {
     "data": {
      "image/png": "[encoded data removed]",
      "text/plain": [
       "<Figure size 576x144 with 1 Axes>"
      ]
     },
     "metadata": {
      "needs_background": "light"
     },
     "output_type": "display_data"
    }
   ],
   "source": [
    "fig = plt.figure(figsize=(8,2))\n",
    "df[df['top year'] == 2016]['top genre'].value_counts().head(5).sort_values().plot.barh(title='Top 2016')"
   ]
  },
  {
   "cell_type": "markdown",
   "id": "42ba47a7",
   "metadata": {},
   "source": [
    "É com uma grande margem de diferença que o DANCE POP todo ano fica como o gênero que mais aparece no top 100. \n",
    "\n",
    "No gráfico foram mostrados apenas os ultimos quatro anos (2019, 2018, 2017, 2016), vemos que o POP sempre é o mais tocado e o hip hop alternativo aparece em 2018 (2º) e 2017 (3º).\n",
    "\n",
    "Uma coisa interessante para observar é que mesmo tem alguns gêneros bastante especificos, como o pop e hip hop canadense."
   ]
  },
  {
   "cell_type": "code",
   "execution_count": 21,
   "id": "4e74a87f",
   "metadata": {
    "scrolled": true
   },
   "outputs": [
    {
     "name": "stdout",
     "output_type": "stream",
     "text": [
      "Justin Bieber       6\n",
      "Shawn Mendes        4\n",
      "Avril Lavigne       2\n",
      "Carly Rae Jepsen    1\n",
      "Name: artist, dtype: int64\n",
      "\n",
      "Drake    18\n",
      "Name: artist, dtype: int64\n"
     ]
    }
   ],
   "source": [
    "print(df[df['top genre'] == 'canadian pop']['artist'].value_counts())\n",
    "print('')\n",
    "print(df[df['top genre'] == 'canadian hip hop']['artist'].value_counts())"
   ]
  },
  {
   "cell_type": "markdown",
   "id": "92ae4e0f",
   "metadata": {},
   "source": [
    "Quando análisamos esses dados vemos que os artistas de pop canadense possuem 13 faixas, em sua maior parte de Justin Bieber ou Shawn Mendes. Entretanto, quando olhamos para o hip hop canadense vemos que Drake sozinho tem 18 músicas nos top 100 e em 2018 foi responsavel por colocar esse gênero entre os 5 maiores."
   ]
  },
  {
   "cell_type": "markdown",
   "id": "3c623875",
   "metadata": {},
   "source": [
    "Dentre todos os artistas do dataset a maioria deles se tratam de artistas solos."
   ]
  },
  {
   "cell_type": "code",
   "execution_count": 22,
   "id": "f48f32c9",
   "metadata": {},
   "outputs": [
    {
     "data": {
      "text/plain": [
       "<AxesSubplot:title={'center':'Tipo do artista'}>"
      ]
     },
     "execution_count": 22,
     "metadata": {},
     "output_type": "execute_result"
    },
    {
     "data": {
      "image/png": "[encoded data removed]",
      "text/plain": [
       "<Figure size 432x288 with 1 Axes>"
      ]
     },
     "metadata": {
      "needs_background": "light"
     },
     "output_type": "display_data"
    }
   ],
   "source": [
    "df['artist type'].value_counts().plot.bar(title='Tipo do artista', rot=45)"
   ]
  },
  {
   "cell_type": "markdown",
   "id": "a4ac4dbe",
   "metadata": {},
   "source": [
    "## A musica que tem menor a maior batidas por minuto (BPM):\n",
    "\n",
    "são de Justin Bieber e XXXTENTACION, Blake Shelton\te Rihanna, respectivamente."
   ]
  },
  {
   "cell_type": "code",
   "execution_count": 23,
   "id": "dd771318",
   "metadata": {},
   "outputs": [
    {
     "name": "stdout",
     "output_type": "stream",
     "text": [
      "BPM menor:  65.0\n",
      "BPM maior:  206.0\n"
     ]
    }
   ],
   "source": [
    "print('BPM menor: ',df['bpm'].sort_values().min())\n",
    "print('BPM maior: ',df['bpm'].sort_values().max())"
   ]
  },
  {
   "cell_type": "code",
   "execution_count": 24,
   "id": "7fe75096",
   "metadata": {
    "scrolled": false
   },
   "outputs": [
    {
     "data": {
      "text/html": [
       "<div>\n",
       "<style scoped>\n",
       "    .dataframe tbody tr th:only-of-type {\n",
       "        vertical-align: middle;\n",
       "    }\n",
       "\n",
       "    .dataframe tbody tr th {\n",
       "        vertical-align: top;\n",
       "    }\n",
       "\n",
       "    .dataframe thead th {\n",
       "        text-align: right;\n",
       "    }\n",
       "</style>\n",
       "<table border=\"1\" class=\"dataframe\">\n",
       "  <thead>\n",
       "    <tr style=\"text-align: right;\">\n",
       "      <th></th>\n",
       "      <th>artist</th>\n",
       "      <th>title</th>\n",
       "    </tr>\n",
       "  </thead>\n",
       "  <tbody>\n",
       "    <tr>\n",
       "      <th>38</th>\n",
       "      <td>Justin Bieber</td>\n",
       "      <td>Baby</td>\n",
       "    </tr>\n",
       "    <tr>\n",
       "      <th>896</th>\n",
       "      <td>XXXTENTACION</td>\n",
       "      <td>changes</td>\n",
       "    </tr>\n",
       "  </tbody>\n",
       "</table>\n",
       "</div>"
      ],
      "text/plain": [
       "            artist    title\n",
       "38   Justin Bieber     Baby\n",
       "896   XXXTENTACION  changes"
      ]
     },
     "execution_count": 24,
     "metadata": {},
     "output_type": "execute_result"
    }
   ],
   "source": [
    "df.query('bpm == 65.0')[['artist','title']]"
   ]
  },
  {
   "cell_type": "code",
   "execution_count": 25,
   "id": "4a944538",
   "metadata": {},
   "outputs": [
    {
     "data": {
      "text/html": [
       "<div>\n",
       "<style scoped>\n",
       "    .dataframe tbody tr th:only-of-type {\n",
       "        vertical-align: middle;\n",
       "    }\n",
       "\n",
       "    .dataframe tbody tr th {\n",
       "        vertical-align: top;\n",
       "    }\n",
       "\n",
       "    .dataframe thead th {\n",
       "        text-align: right;\n",
       "    }\n",
       "</style>\n",
       "<table border=\"1\" class=\"dataframe\">\n",
       "  <thead>\n",
       "    <tr style=\"text-align: right;\">\n",
       "      <th></th>\n",
       "      <th>artist</th>\n",
       "      <th>title</th>\n",
       "    </tr>\n",
       "  </thead>\n",
       "  <tbody>\n",
       "    <tr>\n",
       "      <th>109</th>\n",
       "      <td>Blake Shelton</td>\n",
       "      <td>Honey Bee</td>\n",
       "    </tr>\n",
       "    <tr>\n",
       "      <th>563</th>\n",
       "      <td>Rihanna</td>\n",
       "      <td>FourFiveSeconds</td>\n",
       "    </tr>\n",
       "  </tbody>\n",
       "</table>\n",
       "</div>"
      ],
      "text/plain": [
       "            artist            title\n",
       "109  Blake Shelton        Honey Bee\n",
       "563        Rihanna  FourFiveSeconds"
      ]
     },
     "execution_count": 25,
     "metadata": {},
     "output_type": "execute_result"
    }
   ],
   "source": [
    "df.query('bpm == 206.0')[['artist','title']]"
   ]
  },
  {
   "cell_type": "markdown",
   "id": "e89075fc",
   "metadata": {},
   "source": [
    "## A música mais energética:"
   ]
  },
  {
   "cell_type": "code",
   "execution_count": 26,
   "id": "04aa1238",
   "metadata": {},
   "outputs": [
    {
     "name": "stdout",
     "output_type": "stream",
     "text": [
      "98.0\n",
      "96.0\n"
     ]
    }
   ],
   "source": [
    "print(df['nrgy'].sort_values().max())\n",
    "print(df['dnce'].sort_values().max())"
   ]
  },
  {
   "cell_type": "code",
   "execution_count": 27,
   "id": "0da3f524",
   "metadata": {
    "scrolled": true
   },
   "outputs": [
    {
     "name": "stdout",
     "output_type": "stream",
     "text": [
      "As musicas mais energetica: \n",
      "             artist            title    top genre\n",
      "70   Sidney Samson        Riverside  dutch house\n",
      "312  Bingo Players  Get Up (Rattle)     big room\n"
     ]
    }
   ],
   "source": [
    "print('As musicas mais energetica: \\n',df.query('nrgy == 98.0')[['artist','title','top genre']])"
   ]
  },
  {
   "cell_type": "code",
   "execution_count": 28,
   "id": "f153fef4",
   "metadata": {
    "scrolled": true
   },
   "outputs": [
    {
     "name": "stdout",
     "output_type": "stream",
     "text": [
      "As musicas mais faceis de dançar: \n",
      "           artist       title    top genre\n",
      "461  Nicki Minaj    Anaconda    dance pop\n",
      "856     Lil Baby  Yes Indeed  atl hip hop\n"
     ]
    }
   ],
   "source": [
    "print('As musicas mais faceis de dançar: \\n',df.query('dnce == 96.0')[['artist','title','top genre']])"
   ]
  },
  {
   "cell_type": "markdown",
   "id": "8ecb24fc",
   "metadata": {},
   "source": [
    "Com isso vemos que, as musicas mais energeticas são musicas eletrônicas o que explica elas serem as mais energeticas. Logo, temos Anaconda de Nicki Minaj como uma das mais fáceis de dançar junto com Lil Baby, duas músicas que ficaram bastantes conhecidas devido aos videos de dança na internet."
   ]
  },
  {
   "cell_type": "markdown",
   "id": "3b411e4b",
   "metadata": {},
   "source": [
    "# Conclusões\n",
    "\n",
    "Como conclusões da análise deste dataset temos:\n",
    "1. Taylor Swift como a artista que mais ficou no top 100 de 2010 a 2019, onde tiveram 21 músicas dela;\n",
    "2. Dance Pop é o gênero de música que mais está no top 100 dos ultimos 4 anos, além de que, outros gêneros derivados do pop estão sempre entre os 5 maiores;\n",
    "3. Drake é o artista que sozinho conseguiu colocar um gênero musical entre os 5 maiores do top 100 daquele ano;\n",
    "4. A maioria dos artistas são de carreira solo;\n",
    "5. As musicas mais lentas e rápidas são de Justin Bieber e XXXTENTACION, Blake Shelton e Rihanna, respectivamente;\n",
    "6. As musicas mais energeticas são de Sidney Samson e Bingo Players;\n",
    "7. As musicas mais fáceis de dançar são de Nicki Minaj e Lil Baby."
   ]
  }
 ],
 "metadata": {
  "kernelspec": {
   "display_name": "Python 3.8.5 ('base')",
   "language": "python",
   "name": "python3"
  },
  "language_info": {
   "codemirror_mode": {
    "name": "ipython",
    "version": 3
   },
   "file_extension": ".py",
   "mimetype": "text/x-python",
   "name": "python",
   "nbconvert_exporter": "python",
   "pygments_lexer": "ipython3",
   "version": "3.8.5"
  },
  "vscode": {
   "interpreter": {
    "hash": "dc31b6ed2dedac6f9d62dd1926e053993a81602fc51f7d26bdceccfd5de52b60"
   }
  }
 },
 "nbformat": 4,
 "nbformat_minor": 5
}
